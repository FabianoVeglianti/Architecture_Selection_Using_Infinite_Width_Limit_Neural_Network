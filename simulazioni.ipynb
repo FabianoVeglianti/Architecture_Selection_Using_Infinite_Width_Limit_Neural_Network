{
  "nbformat": 4,
  "nbformat_minor": 0,
  "metadata": {
    "colab": {
      "provenance": [],
      "authorship_tag": "ABX9TyPAJN9gDDab4t8jxCQKGGP/",
      "include_colab_link": true
    },
    "kernelspec": {
      "name": "python3",
      "display_name": "Python 3"
    },
    "language_info": {
      "name": "python"
    }
  },
  "cells": [
    {
      "cell_type": "markdown",
      "metadata": {
        "id": "view-in-github",
        "colab_type": "text"
      },
      "source": [
        "<a href=\"https://colab.research.google.com/github/FabianoVeglianti/Architecture_Selection_Using_Infinite_Width_Limit_Neural_Network/blob/main/simulazioni.ipynb\" target=\"_parent\"><img src=\"https://colab.research.google.com/assets/colab-badge.svg\" alt=\"Open In Colab\"/></a>"
      ]
    },
    {
      "cell_type": "markdown",
      "source": [
        "# Imports"
      ],
      "metadata": {
        "id": "mvCyF-L52n1i"
      }
    },
    {
      "cell_type": "code",
      "source": [
        "from tensorflow_probability import math as tfmath"
      ],
      "metadata": {
        "id": "wMwczODm9f5H"
      },
      "execution_count": null,
      "outputs": []
    },
    {
      "cell_type": "code",
      "execution_count": null,
      "metadata": {
        "id": "tMpLubi8mGeG",
        "colab": {
          "base_uri": "https://localhost:8080/"
        },
        "outputId": "9e7231b7-fef6-4b47-e4ae-604d5742977c"
      },
      "outputs": [
        {
          "output_type": "stream",
          "name": "stdout",
          "text": [
            "Mounted at /content/drive\n"
          ]
        }
      ],
      "source": [
        "import tensorflow as tf\n",
        "import numpy as np\n",
        "from numpy.random import Generator\n",
        "from matplotlib import pyplot as plt\n",
        "import math\n",
        "import pandas as pd\n",
        "from argparse import Namespace\n",
        "import matplotlib.pyplot as plt\n",
        "import mpl_toolkits.mplot3d\n",
        "from google.colab import files\n",
        "from scipy.stats import norm, gmean\n",
        "import time\n",
        "from google.colab import drive\n",
        "drive.mount('/content/drive')\n",
        "import os"
      ]
    },
    {
      "cell_type": "code",
      "source": [
        "args = Namespace(\n",
        "    # Data and Path information\n",
        "    n_sample = 2000,\n",
        "    d = 10, #n_0\n",
        "    n_L_plus_1 = 1,\n",
        "    significance = 0.05,\n",
        "    percentage_interval = 0.2\n",
        ")"
      ],
      "metadata": {
        "id": "-_mZxkr9qfHt"
      },
      "execution_count": null,
      "outputs": []
    },
    {
      "cell_type": "markdown",
      "source": [
        "# Tools"
      ],
      "metadata": {
        "id": "CIsWe3MR2r7W"
      }
    },
    {
      "cell_type": "markdown",
      "source": [
        "## MLP"
      ],
      "metadata": {
        "id": "LP-zeXoP4lZT"
      }
    },
    {
      "cell_type": "code",
      "source": [
        "class MLP(tf.keras.Sequential):\n",
        "  def __init__(self, L, n_list, activation, Cb, Cw, seed = 100, use_bias = True, use_generator_init = False):\n",
        "    \"\"\"\n",
        "    Args:\n",
        "      use_bias (bool): attiva/disattiva l'uso dei bias nei layers\n",
        "      use_generator_init (bool):\n",
        "        se True usa l'inizializzazione di Gianluca\n",
        "        se Fasle usa l'inizializzazione descritta in Delving Deep into Rectifiers\n",
        "    \"\"\"\n",
        "\n",
        "    super().__init__()\n",
        "    self.generator = np.random.default_rng(seed)\n",
        "    self.L = L\n",
        "    self.n_list = n_list\n",
        "    self.activation = activation\n",
        "    self.Cb = Cb\n",
        "    self.Cw = Cw\n",
        "\n",
        "    #Creo gli inizializzatori -> oggetti necessari a inizializzare i pesi W (chiamati kernel) e i bias\n",
        "    kernel_initializers_list = []\n",
        "    if use_generator_init:\n",
        "      kernel_initializers_list.append(tf.keras.initializers.RandomNormal(0, math.sqrt(1/n_list[0]), seed = self.generator.integers(1,10000)))\n",
        "    else:\n",
        "      kernel_initializers_list.append(tf.keras.initializers.RandomNormal(0, math.sqrt(Cw/n_list[0]), seed = self.generator.integers(1,10000)))\n",
        "\n",
        "    for l in range(1, L):\n",
        "      if use_generator_init:\n",
        "        kernel_initializers_list.append(tf.keras.initializers.RandomNormal(0, math.sqrt(2/n_list[l]), seed = self.generator.integers(1,10000)))\n",
        "      else:\n",
        "        kernel_initializers_list.append(tf.keras.initializers.RandomNormal(0, math.sqrt(Cw/n_list[l]), seed = self.generator.integers(1,10000)))\n",
        "\n",
        "    if use_generator_init:\n",
        "      kernel_initializers_list.append(tf.keras.initializers.RandomNormal(0, math.sqrt(2/n_list[L]), seed = self.generator.integers(1,10000)))\n",
        "    else:\n",
        "      kernel_initializers_list.append(tf.keras.initializers.RandomNormal(0, math.sqrt(Cw/n_list[L]), seed = self.generator.integers(1,10000)))\n",
        "\n",
        "    bias_initializer = tf.keras.initializers.RandomNormal(stddev=math.sqrt(Cb), seed = self.generator.integers(1,10000))\n",
        "\n",
        "    #Aggiungo gli strati al modello: Dense e' il classico strato pieno di neuroni\n",
        "    self.add(tf.keras.layers.Dense(n_list[1], input_shape=[n_list[0]], use_bias = use_bias, kernel_initializer = kernel_initializers_list[0],\n",
        "              bias_initializer = bias_initializer))\n",
        "    for l in range(1, L):\n",
        "        self.add(tf.keras.layers.Dense(n_list[l+1], activation=activation, use_bias = use_bias, kernel_initializer = kernel_initializers_list[l],\n",
        "                  bias_initializer = bias_initializer))\n",
        "    self.add(tf.keras.layers.Dense(n_list[L+1], use_bias = use_bias, kernel_initializer = kernel_initializers_list[L],\n",
        "                  bias_initializer = bias_initializer))\n",
        "    #print(\"Created MLP\")\n",
        "    #print(self.summary())\n"
      ],
      "metadata": {
        "id": "Muo9uZKtmKh5"
      },
      "execution_count": null,
      "outputs": []
    },
    {
      "cell_type": "code",
      "source": [
        "def create_constant_widths_list(L,n):\n",
        "  \"\"\"\n",
        "  Creates a list of values representing the widths of layers of a neural network.\n",
        "  All widths are the same except for the first and the last.\n",
        "  Args:\n",
        "    L (int): number of hidden layers\n",
        "    n (int): starting value\n",
        "  Returns:\n",
        "    layer_widths ([int, int ...]): list of layer widths. Input layer and output layer widths are args.d and args.n_L_plus_1\n",
        "      for the hidden layers the widths are computed using h_i(n) = n forall i\n",
        "  \"\"\"\n",
        "  layer_widths = []\n",
        "  layer_widths.append(args.d)\n",
        "  for l in range(L):\n",
        "    layer_widths.append(n)\n",
        "  layer_widths.append(args.n_L_plus_1)\n",
        "  return layer_widths\n"
      ],
      "metadata": {
        "id": "mfjp5P9Z2-IG"
      },
      "execution_count": null,
      "outputs": []
    },
    {
      "cell_type": "markdown",
      "source": [
        "## DatasetHandler"
      ],
      "metadata": {
        "id": "eTR9uMv62y-2"
      }
    },
    {
      "cell_type": "code",
      "source": [
        "\n",
        "class DatasetHandler():\n",
        "  \"\"\"\n",
        "  list of (possible) class attributes:\n",
        "    generator\n",
        "    self.mlp_generator_L\n",
        "    self.mlp_generator_activation\n",
        "    self.mlp_generator_Cb\n",
        "    self.mlp_generator_Cw\n",
        "    self.y_mean\n",
        "    self.is_centered\n",
        "    self.dataset\n",
        "\n",
        "  list of class methods:\n",
        "    create_dataset_from_MLP\n",
        "    create_dataset_from_MLP_given_input\n",
        "    create_input\n",
        "    download_dataset_description\n",
        "    get_dataset_description_as_dataframe\n",
        "    get_dataset_with_gaussian_limit\n",
        "    get_max_norm_X\n",
        "    get_uncentered_dataset\n",
        "    get_x1_as_array\n",
        "    get_x2_as_array\n",
        "    get_y_as_array\n",
        "    get_y_stddev\n",
        "    reset_scaled_X\n",
        "    save_dataset_description_on_cloud\n",
        "    set_dataset\n",
        "    set_generator_params\n",
        "    set_max_norm_X_to_1\n",
        "  \"\"\"\n",
        "\n",
        "  def __init__(self, seed = 147):\n",
        "    self.generator = np.random.default_rng(seed)\n",
        "\n",
        "  #method\n",
        "  def create_dataset_from_MLP(self, mlp, seed = 147, add_noise = False, noise = [], centered = True):\n",
        "    \"\"\"\n",
        "    Args:\n",
        "      n_sample (int): number of sample in the output dataset\n",
        "      mlp (MLP): y_i = mlp(x_i)\n",
        "      seed (int): seed of the PRNG\n",
        "      add_noise (bool): flag for noise\n",
        "      noise: ([float,float,...]): noise values\n",
        "      centered: (bool): flag for centered dataset\n",
        "    Returns:\n",
        "      dataset (pd.Dataframe): a dataset of shape (n_sample, d + 1)\n",
        "      y_mean (float): mean value if centered is set to True\n",
        "    \"\"\"\n",
        "    self.mlp_generator_L = mlp.L\n",
        "    self.mlp_generator_activation = mlp.activation\n",
        "    self.mlp_generator_n_list = mlp.n_list\n",
        "    self.mlp_generator_Cb = mlp.Cb\n",
        "    self.mlp_generator_Cw = mlp.Cw\n",
        "    self.centered = centered\n",
        "\n",
        "\n",
        "    #np.random.seed = seed\n",
        "    #print(np.random.seed)\n",
        "\n",
        "    X = self.generator.uniform(low = -6.0, high = 6.0, size = (args.n_sample, args.d))\n",
        "    #for i in range(X.shape[0]):\n",
        "    #  X[i] = X[i]/np.linalg.norm(X[i], ord=2)\n",
        "\n",
        "    y = mlp(X).numpy().reshape((args.n_sample))\n",
        "\n",
        "    if add_noise:\n",
        "      if len(noise) == 0:\n",
        "        noise = self.generator.normal(args.noise_mean, args.noise_std, size = (args.n_sample))\n",
        "      else:\n",
        "        noise = np.array(noise)\n",
        "      y = y + noise\n",
        "    if centered:\n",
        "      y_mean = np.mean(y)\n",
        "      self.y_mean = y_mean\n",
        "      y = y-self.y_mean\n",
        "    else:\n",
        "      y_mean = None\n",
        "\n",
        "    data = {}\n",
        "    for i in range(args.d):\n",
        "      name_feature = \"x\" + str(i+1)\n",
        "      data[name_feature] = X[:,i]\n",
        "    data['y'] = y\n",
        "    dataset = pd.DataFrame.from_dict(data)\n",
        "\n",
        "    self.dataset = dataset\n",
        "    return dataset, y_mean\n",
        "\n",
        "  #method\n",
        "  def create_dataset_from_MLP_given_input(self, mlp, input, add_noise = False, noise = [], centered = True):\n",
        "    self.mlp_generator_L = mlp.L\n",
        "    self.mlp_generator_activation = mlp.activation\n",
        "    self.mlp_generator_n_list = mlp.n_list\n",
        "    self.mlp_generator_Cb = mlp.Cb\n",
        "    self.mlp_generator_Cw = mlp.Cw\n",
        "    self.centered = centered\n",
        "    X = input.to_numpy()\n",
        "\n",
        "    y = mlp(X).numpy().reshape((args.n_sample))\n",
        "\n",
        "    if add_noise:\n",
        "      if len(noise) == 0:\n",
        "        noise = self.generator.normal(args.noise_mean, args.noise_std, size = (args.n_sample))\n",
        "      else:\n",
        "        noise = np.array(noise)\n",
        "      y = y + noise\n",
        "    if centered:\n",
        "      y_mean = np.mean(y)\n",
        "      self.y_mean = y_mean\n",
        "      y = y-self.y_mean\n",
        "    else:\n",
        "      y_mean = None\n",
        "\n",
        "    data = {}\n",
        "    for i in range(args.d):\n",
        "      name_feature = \"x\" + str(i+1)\n",
        "      data[name_feature] = X[:,i]\n",
        "    data['y'] = y\n",
        "\n",
        "    dataset = pd.DataFrame.from_dict(data)\n",
        "\n",
        "    self.dataset = dataset\n",
        "    return dataset, y_mean\n",
        "\n",
        "  #method\n",
        "  def create_input(self):\n",
        "    X = self.generator.uniform(low = -6.0, high = 6.0, size = (args.n_sample, args.d))\n",
        "\n",
        "    input_dict = {}\n",
        "    for i in range(args.d):\n",
        "      name_feature = \"x\" + str(i+1)\n",
        "      input_dict[name_feature] = X[:,i]\n",
        "\n",
        "    input_df = pd.DataFrame.from_dict(input_dict)\n",
        "    return input_df\n",
        "\n",
        "    self.dataset = dataset\n",
        "    return dataset, y_mean\n",
        "\n",
        "  #method\n",
        "  def download_dataset_description(self):\n",
        "    try:\n",
        "      L = getattr(self, \"mlp_generator_L\")\n",
        "      df = self.get_dataset_description_as_dataframe()\n",
        "      activation = self.mlp_generator_activation\n",
        "      n = self.mlp_generator_n_list[1]\n",
        "      Cb = self.mlp_generator_Cb\n",
        "      Cw = self.mlp_generator_Cw\n",
        "      filename = \"\"\n",
        "      filename += activation\n",
        "      filename += \"_\" + str(L)\n",
        "      filename += \"_\"+str(n)\n",
        "      filename += \"_\"+str(Cb)\n",
        "      filename += \"_\"+str(Cw)+\"_dataset_description.csv\"\n",
        "      df.to_csv(filename, index=False)\n",
        "      files.download(filename)\n",
        "    except AttributeError:\n",
        "      print(\"You have to call create_dataset_from_MLP before trying downloading.\")\n",
        "\n",
        "  #method\n",
        "  def get_dataset_description_as_dataframe(self):\n",
        "    y = self.get_y_as_array(self.dataset)\n",
        "    if self.centered:\n",
        "      y = y + self.y_mean\n",
        "    y_mean = np.mean(y)\n",
        "    y_var = np.var(y)\n",
        "    df = pd.DataFrame(columns=['activation', 'L', 'n', 'Cb', 'Cw', 'y_mean', 'y_var'])\n",
        "    df.loc[len(df.index)] = [self.mlp_generator_activation, self.mlp_generator_L,\n",
        "                             self.mlp_generator_n_list[1], self.mlp_generator_Cb,\n",
        "                             self.mlp_generator_Cw, y_mean, y_var]\n",
        "    return df\n",
        "\n",
        "  #method\n",
        "  def get_dataset_with_gaussian_limit(self, mlp, input = None, scaled_input = None, use_scaled_input = False):\n",
        "    #new_df = pd.DataFrame(columns=['x1', 'x2', 'L', 'activation', 'Cb', 'Cw', 'gaussian_limit_var', 'gaussian_limit_std'])\n",
        "    new_df_rows =[]\n",
        "\n",
        "\n",
        "    for index, row in input.iterrows():\n",
        "      new_row = {}\n",
        "      if use_scaled_input:\n",
        "        x = (scaled_input.iloc[index]).to_numpy()\n",
        "      else:\n",
        "        x = (row[:]).to_numpy()\n",
        "      new_row = (input.iloc[index]).to_dict()\n",
        "      gaussian_limit_std = get_gaussian_limit_stddev_(mlp, x)\n",
        "      gaussian_limit_var = gaussian_limit_std * gaussian_limit_std\n",
        "      new_row['L'] = mlp.L\n",
        "      new_row['activation'] = mlp.activation\n",
        "      new_row['Cb'] = mlp.Cb\n",
        "      new_row['Cw'] = mlp.Cw\n",
        "      new_row['gaussian_limit_var'] = gaussian_limit_var\n",
        "      new_row['gaussian_limit_std'] = gaussian_limit_std\n",
        "      new_df_rows.append(new_row)\n",
        "    new_df = pd.DataFrame(new_df_rows)\n",
        "    return new_df\n",
        "\n",
        "  #method\n",
        "  def get_max_norm_X(self, dataset):\n",
        "    columns = []\n",
        "    for i in range(args.d):\n",
        "      columns.append('x'+str(i+1))\n",
        "    X = dataset[columns]\n",
        "    max_norm_X = np.max(np.linalg.norm(X, ord=2, axis =1))\n",
        "    return max_norm_X\n",
        "\n",
        "  #method\n",
        "  def get_uncentered_dataset(self):\n",
        "    new_df = self.dataset.copy()\n",
        "    if self.centered:\n",
        "      return new_df\n",
        "    else:\n",
        "      y = self.get_y_as_array(new_df)\n",
        "      y = y + self.y_mean\n",
        "      new_df = new_df.assign(y=y)\n",
        "      return new_df\n",
        "\n",
        "  #method\n",
        "  def get_x1_as_array(self, dataset):\n",
        "    \"\"\"\n",
        "    Args:\n",
        "      dataset (pd.Dataframe): a dataset with column names [x1, x2, y]\n",
        "    Returns:\n",
        "      x1 (np.ndarray): the first column of dataset\n",
        "    \"\"\"\n",
        "    return dataset.x1.to_numpy()\n",
        "\n",
        "  #method\n",
        "  def get_x2_as_array(self, dataset):\n",
        "    \"\"\"\n",
        "    Args:\n",
        "      dataset (pd.Dataframe): a dataset with column names [x1, x2, y]\n",
        "    Returns:\n",
        "      x2 (np.ndarray): the second column of dataset\n",
        "    \"\"\"\n",
        "    return dataset.x2.to_numpy()\n",
        "\n",
        "  #method\n",
        "  def get_y_as_array(self, dataset):\n",
        "    \"\"\"\n",
        "    Args:\n",
        "      dataset (pd.Dataframe): a dataset with column names [x1, x2, y]\n",
        "    Returns:\n",
        "      y (np.ndarray): the last column of dataset\n",
        "    \"\"\"\n",
        "    return dataset.y.to_numpy()\n",
        "\n",
        "  #method\n",
        "  def get_y_stddev(self):\n",
        "    y = self.get_y_as_array(self.dataset)\n",
        "    if self.centered:\n",
        "      y = y + self.y_mean\n",
        "    return np.sqrt(np.var(y))\n",
        "\n",
        "  #method\n",
        "  def reset_scaled_X(self, dataset, max_norm_X):\n",
        "    columns = []\n",
        "    for i in range(args.d):\n",
        "      columns.append('x'+str(i+1))\n",
        "    X = dataset[columns]\n",
        "    X = X * max_norm_X\n",
        "    dataset[columns] = X\n",
        "    return dataset\n",
        "\n",
        "  #method\n",
        "  def save_dataset_description_on_cloud(self, basepath):\n",
        "    try:\n",
        "      L = getattr(self, \"mlp_generator_L\")\n",
        "      df = self.get_dataset_description_as_dataframe()\n",
        "      activation = self.mlp_generator_activation\n",
        "      n = self.mlp_generator_n_list[1]\n",
        "      Cb = self.mlp_generator_Cb\n",
        "      Cw = self.mlp_generator_Cw\n",
        "      path = basepath + str(L) + \"_\" + activation\n",
        "      handle_dirs(path)\n",
        "      filename = path + \"/description.csv\"\n",
        "      with open(filename, 'w', encoding = 'utf-8-sig') as f:\n",
        "        df.to_csv(f, index = False)\n",
        "    except AttributeError:\n",
        "      print(\"You have to call create_dataset_from_MLP before trying downloading.\")\n",
        "\n",
        "  #method\n",
        "  def set_dataset(self, dataset, to_center): #da settare anche L, n, activation, Cb, Cw e centered\n",
        "    if to_center:\n",
        "      self.centered = True\n",
        "      y = self.get_y_as_array(dataset)\n",
        "      self.y_mean = np.mean(y)\n",
        "      y = y - self.y_mean\n",
        "      dataset = dataset.assign(y=y)\n",
        "    self.dataset = dataset\n",
        "\n",
        "  #method\n",
        "  def set_generator_params(self, L, activation,Cb,Cw):\n",
        "    self.mlp_generator_L = L\n",
        "    self.mlp_generator_activation = activation\n",
        "    self.mlp_generator_Cb = Cb\n",
        "    self.mlp_generator_Cw = Cw\n",
        "\n",
        "  #method\n",
        "  def set_max_norm_X_to_1(self, dataset):\n",
        "    new_dataset = dataset.copy()\n",
        "    columns = []\n",
        "    for i in range(args.d):\n",
        "      columns.append('x'+str(i+1))\n",
        "    X = new_dataset[columns]\n",
        "    max_norm_X = np.max(np.linalg.norm(X, ord=2, axis =1))\n",
        "    X = X / max_norm_X\n",
        "    new_dataset[columns] = X\n",
        "    return new_dataset, max_norm_X"
      ],
      "metadata": {
        "id": "l5hFJnxFnyj5"
      },
      "execution_count": null,
      "outputs": []
    },
    {
      "cell_type": "code",
      "source": [
        "def scatterplot3d_from_dataset(dataset, out_filename, dataset_handler):\n",
        "  #usable only if dataset has columns ['x1', 'x2', 'y']\n",
        "  x1 = dataset_handler.get_x1_as_array(dataset)\n",
        "  x2 = dataset_handler.get_x2_as_array(dataset)\n",
        "  y = dataset_handler.get_y_as_array(dataset)\n",
        "\n",
        "  fig = plt.figure()\n",
        "  ax = fig.add_subplot(111, projection = '3d')   # 3d projection\n",
        "\n",
        "\n",
        "  pnt3d=ax.scatter(x1, x2, y, c=y)\n",
        "  ax.set_xlabel('x1')                         # axis label\n",
        "  ax.set_ylabel('x2')\n",
        "  #ax.set_zlabel('y')\n",
        "  ax.zaxis.set_ticklabels([])\n",
        "  cbar=plt.colorbar(pnt3d)\n",
        "  #plt.savefig(out_filename)\n",
        "  plt.show()"
      ],
      "metadata": {
        "id": "BVgADoX0VfYD"
      },
      "execution_count": null,
      "outputs": []
    },
    {
      "cell_type": "markdown",
      "source": [
        "#### TestPlotting"
      ],
      "metadata": {
        "id": "o_iDpqLz3Yq9"
      }
    },
    {
      "cell_type": "code",
      "source": [
        "dataset_handler = DatasetHandler()\n",
        "L = 5\n",
        "width_list = create_constant_widths_list(L, 100)\n",
        "mlp = MLP(L, width_list, \"relu\", 1, 1, seed = 100)\n",
        "dataset, _ = dataset_handler.create_dataset_from_MLP(mlp, seed = 147)\n",
        "scatterplot3d_from_dataset(dataset, \"\", dataset_handler)\n",
        "\n"
      ],
      "metadata": {
        "id": "oO8X3Qyvgul9",
        "colab": {
          "base_uri": "https://localhost:8080/",
          "height": 415
        },
        "outputId": "3a389100-52af-4d99-b76f-7ff5b7185963"
      },
      "execution_count": null,
      "outputs": [
        {
          "output_type": "display_data",
          "data": {
            "text/plain": [
              "<Figure size 640x480 with 2 Axes>"
            ],
            "image/png": "[encoded data removed]"
          },
          "metadata": {}
        }
      ]
    },
    {
      "cell_type": "code",
      "source": [
        "fig = plt.figure()\n",
        "plt.hist(dataset.y)"
      ],
      "metadata": {
        "id": "wmDWw2Gn4TLd",
        "colab": {
          "base_uri": "https://localhost:8080/",
          "height": 517
        },
        "outputId": "04eb0f13-701e-4abf-a356-6fd2b26e936c"
      },
      "execution_count": null,
      "outputs": [
        {
          "output_type": "execute_result",
          "data": {
            "text/plain": [
              "(array([13., 10., 10., 12., 12.,  7., 15.,  4., 14.,  3.]),\n",
              " array([-0.35027006, -0.27205852, -0.19384699, -0.11563544, -0.0374239 ,\n",
              "         0.04078764,  0.11899918,  0.19721071,  0.27542225,  0.35363379,\n",
              "         0.43184534]),\n",
              " <BarContainer object of 10 artists>)"
            ]
          },
          "metadata": {},
          "execution_count": 10
        },
        {
          "output_type": "display_data",
          "data": {
            "text/plain": [
              "<Figure size 640x480 with 1 Axes>"
            ],
            "image/png": "[encoded data removed]"
          },
          "metadata": {}
        }
      ]
    },
    {
      "cell_type": "markdown",
      "source": [
        "## Infinite Width MLP Variance Computing"
      ],
      "metadata": {
        "id": "n6YP0KtS24hl"
      }
    },
    {
      "cell_type": "code",
      "source": [
        "# Quando si possiede già un dataframe (df) con le varianze per ciascun x e ciascun mlp, si cerca\n",
        "# nel dataframe anziché ricalcolarla.\n",
        "def get_gaussian_limit_std_from_df(df, x, mlp):\n",
        "  cond_L = df['L'] == mlp.L\n",
        "  cond_activation = df['activation'] == mlp.activation\n",
        "  cond_Cb = df['Cb'] == mlp.Cb\n",
        "  cond_Cw = df['Cw'] == mlp.Cw\n",
        "  cond = cond_L & cond_activation & cond_Cb & cond_Cw\n",
        "  df_current_predictor = df[cond]\n",
        "\n",
        "  columns_to_exclude = ['L', 'activation', 'Cb', 'Cw', 'gaussian_limit_var', 'gaussian_limit_std']\n",
        "  all_columns = df_current_predictor.columns\n",
        "  columns_to_select = [col for col in all_columns if col not in columns_to_exclude]\n",
        "  dataset_cond = df_current_predictor[columns_to_select] == x\n",
        "  cond = np.array([True for _ in range(dataset_cond.shape[0])])\n",
        "  for i in range(dataset_cond.shape[1]):\n",
        "    cond = cond & dataset_cond[dataset_cond.columns[i]]\n",
        "\n",
        "  gaussian_limit_std = (df_current_predictor[cond]).gaussian_limit_std\n",
        "  return gaussian_limit_std"
      ],
      "metadata": {
        "id": "Lyy-smMJ-fdX"
      },
      "execution_count": null,
      "outputs": []
    },
    {
      "cell_type": "code",
      "source": [
        "vZ = np.arange(start = -10,stop = 10, step = 0.001)\n",
        "vProb = tf.convert_to_tensor([norm.pdf(vZ[i]) for i in range(vZ.size)], dtype = tf.float32)\n",
        "vZ = tf.convert_to_tensor(vZ, dtype = tf.float32)\n",
        "\n",
        "def numerical_integration(vZ, vActiv, vProb):\n",
        "  vF = np.multiply(vActiv, vProb)\n",
        "  vH = np.diff(vZ)\n",
        "  nPoints = vF.size\n",
        "  dInteg_rectangle = np.sum(np.multiply(vF[1:nPoints],vH))\n",
        "  return dInteg_rectangle\n",
        "\n",
        "def get_gaussian_limit_stddev_(mlp, x):\n",
        "  L = mlp.L\n",
        "  Cb = mlp.Cb\n",
        "  Cw = mlp.Cw\n",
        "  if mlp.activation == 'relu':\n",
        "    #print(\"relu\")\n",
        "\n",
        "    CollObs_0 = 1/mlp.n_list[0]*np.square(np.linalg.norm(x, ord=2))\n",
        "    if Cw == 2:\n",
        "      CollObs_L = Cb/2*L + CollObs_0\n",
        "    else:\n",
        "      CollObs_L = Cb/2*(1-math.pow((Cw/2), L))/(1-(Cw/2)) + math.pow(Cw/2, L)*CollObs_0\n",
        "    var = Cb + Cw*CollObs_L\n",
        "    #print(\"{}->{}\".format(L, var))\n",
        "    return np.sqrt(var)\n",
        "  else:\n",
        "    L = mlp.L\n",
        "    Cb = mlp.Cb\n",
        "    Cw = mlp.Cw\n",
        "    #print(mlp.activation)\n",
        "    activation_function = tf.keras.activations.get(mlp.activation)\n",
        "    #input = tf.math.multiply(vZ, dC)\n",
        "    f = lambda dC: tf.multiply(tf.math.square(activation_function(tf.math.multiply(vZ,dC))), vProb)\n",
        "\n",
        "    #vZ = np.arange(start = -10,stop = 10, step = 0.001)\n",
        "\n",
        "    #vProb = np.array([norm.pdf(vZ[i]) for i in range(vZ.size)])\n",
        "\n",
        "    CollObs_0 = 1/mlp.n_list[0]*tf.math.square(tf.convert_to_tensor(np.linalg.norm(x, ord=2), dtype = tf.float32))\n",
        "    dC = tf.math.sqrt(Cb + Cw*CollObs_0)\n",
        "    CollObs_vec = []\n",
        "    CollObs_vec.append(CollObs_0)\n",
        "\n",
        "\n",
        "    for j in range(1, L+1):\n",
        "      res = tfmath.trapz(f(dC), vZ)\n",
        "      CollObs_vec.append(tfmath.trapz(f(dC), vZ))\n",
        "      dC = tf.math.sqrt(Cb + Cw*CollObs_vec[j])\n",
        "\n",
        "    return dC.numpy()\n",
        "\n"
      ],
      "metadata": {
        "id": "d5BbcdECIKoE"
      },
      "execution_count": null,
      "outputs": []
    },
    {
      "cell_type": "markdown",
      "source": [
        "## ScoreHandler"
      ],
      "metadata": {
        "id": "gq5xOWba3Ob2"
      }
    },
    {
      "cell_type": "code",
      "source": [
        "class Score_Handler:\n",
        "  \"\"\"\n",
        "  list of class methods:\n",
        "    _compute_backtesting\n",
        "    _compute_cdfs\n",
        "    _compute_gmean\n",
        "    _compute_max\n",
        "    _compute_median\n",
        "    _compute_min\n",
        "    _compute_nloglike\n",
        "    _compute_pdfs\n",
        "    _compute_pvalues_vector\n",
        "    _compute_quantile\n",
        "    compute_all_scores\n",
        "    compute_comulative_pvalue\n",
        "    compute_dataset_gmean\n",
        "    compute_dataset_max\n",
        "    compute_dataset_median\n",
        "    compute_dataset_min\n",
        "    compute_dataset_nloglike\n",
        "    compute_dataset_quantile\n",
        "    get_grid_backtesting\n",
        "    get_grid_probabilities\n",
        "    get_grid_pvalues\n",
        "    prepare_output_dataset\n",
        "  \"\"\"\n",
        "\n",
        "  def _compute_backtesting(self, dataset, mlp, gaussian_limit_df):\n",
        "    counter = 0\n",
        "    M = len(dataset.index)\n",
        "\n",
        "    for index, row in dataset.iterrows():\n",
        "      y = np.array(row.y)\n",
        "      x = (row[:-1]).to_numpy()\n",
        "      gaussian_limit_std = get_gaussian_limit_std_from_df(gaussian_limit_df, x, mlp)\n",
        "\n",
        "      left_percentage_bound = 0.5 - args.percentage_interval/2.0\n",
        "      right_percentage_bound = 0.5 + args.percentage_interval/2.0\n",
        "      left_bound = norm.ppf(left_percentage_bound, loc = 0, scale = gaussian_limit_std)\n",
        "      right_bound = norm.ppf(right_percentage_bound, loc = 0, scale = gaussian_limit_std)\n",
        "      #since the distribution is gaussian left_bound = -1 * right_bound\n",
        "\n",
        "      if (y < left_bound) or (y > right_bound):\n",
        "        counter += 1\n",
        "    return counter / M * 100\n",
        "\n",
        "  #method\n",
        "  def _compute_cdfs(self,dataset, mlp, neighborhood_width, gaussian_limit_df):\n",
        "    probabilities = []\n",
        "    for _, row in dataset.iterrows():\n",
        "      x = (row[:-1]).to_numpy()\n",
        "      gaussian_limit_stddev = get_gaussian_limit_std_from_df(gaussian_limit_df, x, mlp)\n",
        "      neighborhood = [row.y - neighborhood_width, row.y + neighborhood_width]\n",
        "      probabilities.append(norm.cdf(neighborhood[1], loc = 0, scale = gaussian_limit_stddev) - \\\n",
        "                          norm.cdf(neighborhood[0], loc = 0, scale = gaussian_limit_stddev))\n",
        "    return probabilities\n",
        "\n",
        "  #method\n",
        "  def _compute_gmean(self, list_values):\n",
        "    values = np.array(list_values)\n",
        "    return gmean(values)\n",
        "\n",
        "  #method\n",
        "  def _compute_max(self, list_values):\n",
        "    return np.array(list_values).max()\n",
        "\n",
        "  #method\n",
        "  def _compute_median(self, list_values):\n",
        "    return self._compute_quantile(list_values, q = 0.5)\n",
        "\n",
        "  #method\n",
        "  def _compute_min(self, list_values):\n",
        "    return np.array(list_values).min()\n",
        "\n",
        "  #method\n",
        "  def _compute_nloglike(self, list_values):\n",
        "    values = np.array(list_values)\n",
        "    return (-1)*np.log(values+1e-8).mean()\n",
        "\n",
        "  #method\n",
        "  def _compute_pdfs(self,dataset, mlp, gaussian_limit_df):\n",
        "    probabilities = []\n",
        "    for index, row in dataset.iterrows():\n",
        "      x = (row[:-1]).to_numpy()\n",
        "      gaussian_limit_stddev = get_gaussian_limit_std_from_df(gaussian_limit_df, x, mlp)\n",
        "      probabilities.append(norm.pdf(row.y, loc = 0, scale = gaussian_limit_stddev))\n",
        "    return probabilities\n",
        "\n",
        "  #method\n",
        "  def _compute_pvalues_vector(self,dataset, mlp, gaussian_limit_df):\n",
        "    pvalues = []\n",
        "    for _, row in dataset.iterrows():\n",
        "      #x = create_jnp_x_vector(row.x1, row.x2)\n",
        "      x = (row[:-1]).to_numpy()\n",
        "      y = np.array(row.y)\n",
        "      gaussian_limit_stddev = get_gaussian_limit_std_from_df(gaussian_limit_df, x, mlp)\n",
        "      phi_y = norm.cdf(abs(y), loc = 0, scale = gaussian_limit_stddev)\n",
        "      pvalues.append(2 - 2 * phi_y)\n",
        "    return np.array(pvalues)\n",
        "\n",
        "  #method\n",
        "  def _compute_quantile(self, list_values, q):\n",
        "    if q < 0 or q > 1:\n",
        "      print(\"Use q in [0,1]!\")\n",
        "      return None\n",
        "    else:\n",
        "      values = np.array(list_values)\n",
        "      return np.quantile(values, q = q)\n",
        "\n",
        "  #method\n",
        "  def compute_all_scores(self, dataset_handler, grid_parameters_predictors, gaussian_limit_df, args_scores):\n",
        "    output_dataset = self.prepare_output_dataset(grid_parameters_predictors)\n",
        "\n",
        "    if args_scores.max or args_scores.min or args_scores.median:\n",
        "      current_dataset_cdfs = self.get_grid_probabilities(dataset_handler, grid_parameters_predictors, gaussian_limit_df, pdf = False)\n",
        "\n",
        "    if args_scores.nloglike or args_scores.gmean:\n",
        "      current_dataset_pdfs = self.get_grid_probabilities(dataset_handler, grid_parameters_predictors, gaussian_limit_df, pdf = True)\n",
        "    if args_scores.nloglike:\n",
        "      nloglike_list = []\n",
        "      for _, row in output_dataset.iterrows():\n",
        "        L = row.L\n",
        "        activation = row.activation\n",
        "        Cb = row.Cb\n",
        "        Cw = row.Cw\n",
        "        key = (L, activation, Cb, Cw)\n",
        "\n",
        "\n",
        "        nloglike = self._compute_nloglike(current_dataset_pdfs[key])\n",
        "        nloglike_list.append(nloglike)\n",
        "      output_dataset['nloglike'] = nloglike_list\n",
        "\n",
        "    if args_scores.gmean:\n",
        "      gmean_list = []\n",
        "      for _, row in output_dataset.iterrows():\n",
        "        L = row.L\n",
        "        activation = row.activation\n",
        "        Cb = row.Cb\n",
        "        Cw = row.Cb\n",
        "        key = (L, activation, Cb, Cw)\n",
        "        gmean = self._compute_gmean(current_dataset_pdfs[key])\n",
        "        gmean_list.append(gmean)\n",
        "      output_dataset['gmean'] = gmean_list\n",
        "\n",
        "    if args_scores.max:\n",
        "      max_list = []\n",
        "      for _, row in output_dataset.iterrows():\n",
        "        L = row.L\n",
        "        activation = row.activation\n",
        "        Cb = row.Cb\n",
        "        Cw = row.Cb\n",
        "        key = (L, activation, Cb, Cw)\n",
        "        max = self._compute_max(current_dataset_cdfs[key])\n",
        "        max_list.append(max)\n",
        "      output_dataset['max'] = max_list\n",
        "\n",
        "    if args_scores.min:\n",
        "      min_list = []\n",
        "      for _, row in output_dataset.iterrows():\n",
        "        L = row.L\n",
        "        activation = row.activation\n",
        "        Cb = row.Cb\n",
        "        Cw = row.Cb\n",
        "        key = (L, activation, Cb, Cw)\n",
        "        min = self._compute_min(current_dataset_cdfs[key])\n",
        "        min_list.append(min)\n",
        "      output_dataset['min'] = min_list\n",
        "\n",
        "    if args_scores.median:\n",
        "      median_list = []\n",
        "      for _, row in output_dataset.iterrows():\n",
        "        L = row.L\n",
        "        activation = row.activation\n",
        "        Cb = row.Cb\n",
        "        Cw = row.Cb\n",
        "        key = (L, activation, Cb, Cw)\n",
        "        median = self._compute_median(current_dataset_cdfs[key])\n",
        "        median_list.append(median)\n",
        "      output_dataset['median'] = median_list\n",
        "\n",
        "    #print(\"backtesting\")\n",
        "    #print(current_dataset_backtesting)\n",
        "    if args_scores.pvalue_comulative:\n",
        "      current_dataset_pvalues = self.get_grid_pvalues(dataset_handler, grid_parameters_predictors, gaussian_limit_df)\n",
        "      pvalue_comulative_scores = []\n",
        "      for _, row in output_dataset.iterrows():\n",
        "        L = row.L\n",
        "        activation = row.activation\n",
        "        Cb = row.Cb\n",
        "        Cw = row.Cw\n",
        "        architecture = (L, activation, Cb, Cw)\n",
        "        pvalue_comulative_score = self.compute_comulative_pvalue(current_dataset_pvalues[architecture])\n",
        "        #print(current_dataset_pvalues[architecture])\n",
        "        #print(pvalue_comulative_score)\n",
        "        pvalue_comulative_scores.append(pvalue_comulative_score)\n",
        "      output_dataset['pvalue_comulative_score'] = pvalue_comulative_scores\n",
        "\n",
        "    if args_scores.backtesting:\n",
        "      current_dataset_backtesting = self.get_grid_backtesting(dataset_handler, grid_parameters_predictors, gaussian_limit_df)\n",
        "      output_dataset['backtesting'] = list(current_dataset_backtesting.values())\n",
        "    return output_dataset\n",
        "\n",
        "  #method\n",
        "  def compute_comulative_pvalue(self, pvalues):\n",
        "    M = pvalues.shape[0]\n",
        "    pvalues = pvalues.reshape(M)\n",
        "    sorted_pvalues = np.sort(pvalues)\n",
        "\n",
        "    # NOTE: can be done via binary search\n",
        "    i = 1\n",
        "    while i <= M:\n",
        "      if(sorted_pvalues[i-1] > i/M*args.significance):\n",
        "        #aggiornare questo punto\n",
        "        break\n",
        "      i += 1\n",
        "    return i / M * 100\n",
        "\n",
        "  #method\n",
        "  def compute_dataset_gmean(self, current_dataset_probabilities):\n",
        "    output_dataset = pd.DataFrame(columns=['L', 'activation', 'gmean'])\n",
        "    for key in current_dataset_probabilities:\n",
        "      L = key[0]\n",
        "      activation = key[1]\n",
        "      gmean = self._compute_gmean(current_dataset_probabilities[key])\n",
        "      output_dataset.loc[len(output_dataset.index)] = [activation, L, gmean]\n",
        "    return output_dataset\n",
        "\n",
        "  #method\n",
        "  def compute_dataset_max(self, current_dataset_probabilities):\n",
        "    output_dataset = pd.DataFrame(columns=['L', 'activation', 'max'])\n",
        "    for key in current_dataset_probabilities:\n",
        "      L = key[0]\n",
        "      activation = key[1]\n",
        "      max = self._compute_max(current_dataset_probabilities[key])\n",
        "      output_dataset.loc[len(output_dataset.index)] = [activation, L, max]\n",
        "    return output_dataset\n",
        "\n",
        "  #method\n",
        "  def compute_dataset_median(self, current_dataset_probabilities):\n",
        "    output_dataset = pd.DataFrame(columns=['L', 'activation', 'median'])\n",
        "    for key in current_dataset_probabilities:\n",
        "      L = key[0]\n",
        "      activation = key[1]\n",
        "      median = self._compute_median(current_dataset_probabilities[key])\n",
        "      output_dataset.loc[len(output_dataset.index)] = [activation, L, median]\n",
        "    return output_dataset\n",
        "\n",
        "  #method\n",
        "  def compute_dataset_min(self, current_dataset_probabilities):\n",
        "    output_dataset = pd.DataFrame(columns=['L', 'activation', 'min'])\n",
        "    for key in current_dataset_probabilities:\n",
        "      L = key[0]\n",
        "      activation = key[1]\n",
        "      min = self._compute_min(current_dataset_probabilities[key])\n",
        "      output_dataset.loc[len(output_dataset.index)] = [activation, L, min]\n",
        "    return output_dataset\n",
        "\n",
        " #method\n",
        "  def compute_dataset_nloglike(self, current_dataset_probabilities):\n",
        "    output_dataset = pd.DataFrame(columns=['L', 'activation', 'nloglike'])\n",
        "    for key in current_dataset_probabilities:\n",
        "      L = key[0]\n",
        "      activation = key[1]\n",
        "      nloglike = self._compute_nloglike(current_dataset_probabilities[key])\n",
        "      output_dataset.loc[len(output_dataset.index)] = [activation, L, nloglike]\n",
        "    return output_dataset\n",
        "\n",
        "  #method\n",
        "  def compute_dataset_quantile(self, current_dataset_probabilities, q):\n",
        "    output_dataset = pd.DataFrame(columns=['L', 'activation', 'quantile'])\n",
        "    for key in current_dataset_probabilities:\n",
        "      L = key[0]\n",
        "      activation = key[1]\n",
        "      quantile = self._compute_quantile(current_dataset_probabilities[key], q)\n",
        "      output_dataset.loc[len(output_dataset.index)] = [activation, L, quantile]\n",
        "    return output_dataset\n",
        "\n",
        "  #method\n",
        "  def get_grid_backtesting(self,dataset_handler, grid_parameters_predictors, gaussian_limit_df):\n",
        "    \"\"\" For each architecture in grid_parameters_predictors computes the backtesting\"\"\"\n",
        "    current_dataset_backtesting = {}\n",
        "    for L in grid_parameters_predictors['L']:\n",
        "      for n in grid_parameters_predictors['n']: #it should be only one\n",
        "        for activation in grid_parameters_predictors['activation']:\n",
        "          for Cb in grid_parameters_predictors['Cb']:\n",
        "            for Cw in grid_parameters_predictors['Cw']:\n",
        "              layer_widths = create_constant_widths_list(L, n)\n",
        "              mlp = MLP(L, layer_widths, activation, Cb, Cw)\n",
        "\n",
        "              backtesting = self._compute_backtesting(dataset_handler.dataset, mlp, gaussian_limit_df)\n",
        "              current_dataset_backtesting[(L, activation, Cb, Cw)] = backtesting\n",
        "    return current_dataset_backtesting\n",
        "\n",
        "  #method\n",
        "  def get_grid_probabilities(self,dataset_handler, grid_parameters_predictors, gaussian_limit_df, pdf):\n",
        "    \"\"\" For each architecture in grid_parameters_predictors computes the probabilities\"\"\"\n",
        "    current_dataset_probabilities = {}\n",
        "    for L in grid_parameters_predictors['L']:\n",
        "      for n in grid_parameters_predictors['n']: #it should be only one\n",
        "        for activation in grid_parameters_predictors['activation']:\n",
        "          for Cb in grid_parameters_predictors['Cb']:\n",
        "            for Cw in grid_parameters_predictors['Cw']:\n",
        "              layer_widths = create_constant_widths_list(L, n)\n",
        "              mlp = MLP(L, layer_widths, activation, Cb, Cw)\n",
        "              if pdf:\n",
        "                probabilities = self._compute_pdfs(dataset_handler.dataset, mlp, gaussian_limit_df)\n",
        "              else:\n",
        "                probabilities = self._compute_cdfs(dataset_handler.dataset, mlp, dataset_handler.get_y_stddev()/2.0, gaussian_limit_df)\n",
        "              current_dataset_probabilities[(L, activation, Cb, Cw)] = probabilities\n",
        "    return current_dataset_probabilities\n",
        "\n",
        "  #method\n",
        "  def get_grid_pvalues(self,dataset_handler, grid_parameters_predictors, gaussian_limit_df):\n",
        "    \"\"\" For each architecture in grid_parameters_predictors computes the pvalues\"\"\"\n",
        "    current_dataset_pvalues = {}\n",
        "    for L in grid_parameters_predictors['L']:\n",
        "      for n in grid_parameters_predictors['n']: #it should be only one\n",
        "        for activation in grid_parameters_predictors['activation']:\n",
        "          for Cb in grid_parameters_predictors['Cb']:\n",
        "            for Cw in grid_parameters_predictors['Cw']:\n",
        "              layer_widths = create_constant_widths_list(L, n)\n",
        "              mlp = MLP(L, layer_widths, activation, Cb, Cw)\n",
        "              pvalues = self._compute_pvalues_vector(dataset_handler.dataset, mlp, gaussian_limit_df)\n",
        "              current_dataset_pvalues[(L, activation, Cb, Cw)] = pvalues\n",
        "    return current_dataset_pvalues\n",
        "\n",
        "  #method\n",
        "  def prepare_output_dataset(self, grid_parameters_predictors):\n",
        "    output_dataset = pd.DataFrame(columns=['L', 'activation',  'Cb', 'Cw'])\n",
        "    for architecture in get_architecture(grid_parameters_predictors):\n",
        "      L, _, activation, Cb, Cw = unpack_architecture(architecture)\n",
        "      output_dataset.loc[len(output_dataset.index)] = [L, activation, Cb, Cw]\n",
        "    return output_dataset\n"
      ],
      "metadata": {
        "id": "xb_mFyNnxgSF"
      },
      "execution_count": null,
      "outputs": []
    },
    {
      "cell_type": "markdown",
      "source": [
        "# Testing\n",
        "\n",
        "Creiamo una classe per gestire i dati di una simulazione su un dataset."
      ],
      "metadata": {
        "id": "BXIKwH03HZ5U"
      }
    },
    {
      "cell_type": "code",
      "source": [
        "class MLPGeneratedDatasetSimulation:\n",
        "  \"\"\" Class to collect results over 1 dataset\n",
        "\n",
        "  list of class (possible) attributes:\n",
        "    dataset_handler\n",
        "    result_dataset\n",
        "\n",
        "  list of class methods:\n",
        "    create_from_csv                   @classmethod\n",
        "    create_from_csv_with_results      @classmethod\n",
        "    download_dataset_description\n",
        "    download_dataset_results\n",
        "    get_mlp_generator_hyperparameters\n",
        "    get_results\n",
        "    save_dataset_description_on_cloud\n",
        "    save_dataset_results_on_cloud\n",
        "    set_results\n",
        "    set_source_dataset\n",
        "  \"\"\"\n",
        "  def __init__(self, dataset_handler):\n",
        "    self.dataset_handler = dataset_handler\n",
        "\n",
        "  @classmethod\n",
        "  def create_from_csv(cls, L, activation, Cb, Cw):\n",
        "    dataset_handler = DatasetHandler()\n",
        "    dataset_handler.set_generator_params(L, activation,Cb,Cw)\n",
        "    return cls(dataset_handler)\n",
        "\n",
        "  @classmethod\n",
        "  def create_from_csv_with_results(cls, L, activation, Cb, Cw):\n",
        "    obj = cls.create_from_csv(L, activation, Cb, Cw)\n",
        "\n",
        "    filename = basepath+ str(L) + \"_\" + activation + \"/scores.csv\"\n",
        "    with open(filename, 'r', encoding = 'utf-8-sig') as f:\n",
        "      scores = pd.read_csv(f)\n",
        "\n",
        "    obj.set_results(scores)\n",
        "    return obj\n",
        "\n",
        "  #method\n",
        "  def download_dataset_description(self):\n",
        "      self.dataset_handler.download_dataset_description()\n",
        "\n",
        "  #method\n",
        "  def download_dataset_results(self):\n",
        "    try:\n",
        "      result_dataset = getattr(self, \"result_dataset\")\n",
        "      L = self.dataset_handler.mlp_generator_L\n",
        "      activation = self.dataset_handler.mlp_generator_activation\n",
        "      Cb = self.dataset_handler.mlp_generator_Cb\n",
        "      Cw = self.dataset_handler.mlp_generator_Cw\n",
        "\n",
        "      filename = \"\"\n",
        "      filename += activation\n",
        "      filename += \"_\" + str(L)\n",
        "      filename += \"_\"+str(Cb)\n",
        "      filename += \"_\"+str(Cw)+\"_results.csv\"\n",
        "      result_dataset.to_csv(filename, index=False)\n",
        "      files.download(filename)\n",
        "    except AttributeError:\n",
        "      print(\"You have to call create_dataset_from_MLP before trying downloading.\")\n",
        "\n",
        "  #method\n",
        "  def get_mlp_generator_hyperparameters(self):\n",
        "    return (self.dataset_handler.mlp_generator_L,\n",
        "            self.dataset_handler.mlp_generator_activation,\n",
        "            self.dataset_handler.mlp_generator_n,\n",
        "            self.dataset_handler.mlp_generator_Cb,\n",
        "            self.dataset_handler.mlp_generator_Cw)\n",
        "\n",
        "  #method\n",
        "  def get_results(self):\n",
        "    try:\n",
        "      result_dataset = getattr(self, \"result_dataset\")\n",
        "      return result_dataset\n",
        "    except AttributeError:\n",
        "      print(\"You have to call set_results before trying getting.\")\n",
        "\n",
        "  #method\n",
        "  def save_dataset_description_on_cloud(self, basepath):\n",
        "    self.dataset_handler.save_dataset_description_on_cloud(basepath)\n",
        "\n",
        "  #method\n",
        "  def save_dataset_results_on_cloud(self, basepath):\n",
        "    try:\n",
        "      result_dataset = getattr(self, \"result_dataset\")\n",
        "      L = self.dataset_handler.mlp_generator_L\n",
        "      activation = self.dataset_handler.mlp_generator_activation\n",
        "      Cb = self.dataset_handler.mlp_generator_Cb\n",
        "      Cw = self.dataset_handler.mlp_generator_Cw\n",
        "      path = basepath + str(L) + \"_\" + activation\n",
        "      handle_dirs(path)\n",
        "      filename = path + \"/scores.csv\"\n",
        "      with open(filename, 'w', encoding = 'utf-8-sig') as f:\n",
        "        result_dataset.to_csv(f, index = False)\n",
        "    except AttributeError:\n",
        "      print(\"You have to call create_dataset_from_MLP before trying downloading.\")\n",
        "\n",
        "  #method\n",
        "  def set_results(self, result_dataset):\n",
        "    self.result_dataset = result_dataset\n",
        "\n",
        "  #method\n",
        "  def set_source_dataset(self, dataset, to_center):\n",
        "    self.dataset_handler.set_dataset(dataset, to_center)"
      ],
      "metadata": {
        "id": "pkYx9x6EZuCp"
      },
      "execution_count": null,
      "outputs": []
    },
    {
      "cell_type": "markdown",
      "source": [
        "### Plotting\n",
        "\n",
        "lineplots crea dei lineplot che contengono lo score in funzione di L.\\\n",
        " Ogni plot contiene una linea per ogni funzione di attivazione (attualemente il codice funziona solo con relu a causa dei commenti)"
      ],
      "metadata": {
        "id": "6crOM9zbud12"
      }
    },
    {
      "cell_type": "code",
      "source": [
        "def lineplots(grid_dataset_results, basepath, args_scores):\n",
        "  for mlpgenerator_datasetsimulation in grid_dataset_results:\n",
        "    mlp_generator_L = mlpgenerator_datasetsimulation.dataset_handler.mlp_generator_L\n",
        "    mlp_generator_activation = mlpgenerator_datasetsimulation.dataset_handler.mlp_generator_activation\n",
        "\n",
        "\n",
        "    path = basepath + str(mlp_generator_L) + \"_\" + mlp_generator_activation + \"/\"\n",
        "    handle_dirs(path)\n",
        "\n",
        "    current_dataset_results = mlpgenerator_datasetsimulation.result_dataset\n",
        "    pred_L_list = np.array(list(set(current_dataset_results.L.to_list())))\n",
        "    relu_subset = current_dataset_results.loc[current_dataset_results['activation'] == 'relu']\n",
        "    #sigmoid_subset = current_dataset_results.loc[current_dataset_results['activation'] == 'sigmoid']\n",
        "    #tanh_subset = current_dataset_results.loc[current_dataset_results['activation'] == 'tanh']\n",
        "\n",
        "    if args_scores.nloglike:\n",
        "      fig_nloglike = plt.figure()\n",
        "      plt.plot(pred_L_list, np.log(relu_subset['nloglike'].to_numpy()),  marker='*', color = 'r', label = 'relu')\n",
        "      #plt.plot(pred_L_list, np.log(sigmoid_subset['nloglike'].to_numpy()),marker='*', color = 'g', label = 'sigmoid')\n",
        "      #plt.plot(pred_L_list, np.log(tanh_subset['nloglike'].to_numpy()), marker='*', color = 'b', label = 'tanh')\n",
        "      plt.xlabel(\"L\")\n",
        "      plt.ylabel(\"nloglike\")\n",
        "      plt.legend()\n",
        "      filename = path + \"nloglike.png\"\n",
        "      fig_nloglike.savefig(filename)\n",
        "\n",
        "    if args_scores.gmean:\n",
        "      fig_gmean = plt.figure()\n",
        "      plt.plot(pred_L_list, relu_subset['gmean'].to_numpy(),  marker='*', color = 'r', label = 'relu')\n",
        "      #plt.plot(pred_L_list, sigmoid_subset['gmean'].to_numpy(),marker='*', color = 'g', label = 'sigmoid')\n",
        "      #plt.plot(pred_L_list, tanh_subset['gmean'].to_numpy(), marker='*', color = 'b', label = 'tanh')\n",
        "      plt.xlabel(\"L\")\n",
        "      plt.ylabel(\"gmean\")\n",
        "      plt.legend()\n",
        "      filename = path + \"gmean.png\"\n",
        "      fig_gmean.savefig(filename)\n",
        "\n",
        "    if args_scores.pvalue_comulative:\n",
        "      fig_pvalue_comulative_score = plt.figure()\n",
        "      plt.plot(pred_L_list, relu_subset['pvalue_comulative_score'].to_numpy(),  marker='*', color = 'r', label = 'relu')\n",
        "    # plt.plot(pred_L_list, sigmoid_subset['pvalue_comulative_score'].to_numpy(),marker='*', color = 'g', label = 'sigmoid')\n",
        "      #plt.plot(pred_L_list, tanh_subset['pvalue_comulative_score'].to_numpy(), marker='*', color = 'b', label = 'tanh')\n",
        "      plt.xlabel(\"L\")\n",
        "      plt.ylabel(\"pvalue_comulative_score\")\n",
        "      plt.legend()\n",
        "      filename = path + \"pvalue_comulative_score.png\"\n",
        "      fig_pvalue_comulative_score.savefig(filename)\n",
        "\n",
        "    if args_scores.backtesting:\n",
        "      fig_backtesting = plt.figure()\n",
        "      plt.plot(pred_L_list, relu_subset['backtesting'].to_numpy(),  marker='*', color = 'r', label = 'relu')\n",
        "    # plt.plot(pred_L_list, sigmoid_subset['backtesting'].to_numpy(),marker='*', color = 'g', label = 'sigmoid')\n",
        "    # plt.plot(pred_L_list, tanh_subset['backtesting'].to_numpy(), marker='*', color = 'b', label = 'tanh')\n",
        "      plt.xlabel(\"L\")\n",
        "      plt.ylabel(\"backtesting\")\n",
        "      plt.legend()\n",
        "      filename = path + \"backtesting.png\"\n",
        "      fig_backtesting.savefig(filename)\n",
        "\n",
        "    if args_scores.median:\n",
        "      fig_median = plt.figure()\n",
        "      plt.plot(pred_L_list, relu_subset['median'].to_numpy(),  marker='*', color = 'r', label = 'relu')\n",
        "      #plt.plot(pred_L_list, sigmoid_subset['median'].to_numpy(),marker='*', color = 'g', label = 'sigmoid')\n",
        "      #plt.plot(pred_L_list, tanh_subset['median'].to_numpy(), marker='*', color = 'b', label = 'tanh')\n",
        "      plt.xlabel(\"L\")\n",
        "      plt.ylabel(\"median\")\n",
        "      plt.legend()\n",
        "      filename = path + \"median.png\"\n",
        "      fig_median.savefig(filename)\n",
        "\n"
      ],
      "metadata": {
        "id": "9NtlaaXFtxBy"
      },
      "execution_count": null,
      "outputs": []
    },
    {
      "cell_type": "markdown",
      "source": [
        "### Helpers\n"
      ],
      "metadata": {
        "id": "mlOErLCzu-Uk"
      }
    },
    {
      "cell_type": "code",
      "source": [
        "def get_num_architectures(grid_parameters_datasets):\n",
        "  return len(list(grid_parameters_datasets['L'])) * len(grid_parameters_datasets['activation'])\n",
        "\n",
        "def get_architecture(grid_parameters):\n",
        "  for L in grid_parameters['L']:\n",
        "    for n in grid_parameters['n']:\n",
        "      for activation in grid_parameters['activation']:\n",
        "        for Cb in grid_parameters['Cb']:\n",
        "          for Cw in grid_parameters['Cw']:\n",
        "            architecture = (L, n, activation, Cb, Cw)\n",
        "            yield architecture\n",
        "\n",
        "def unpack_architecture(architecture):\n",
        "  L = architecture[0]\n",
        "  n = architecture[1]\n",
        "  activation = architecture[2]\n",
        "  Cb = architecture[3]\n",
        "  Cw = architecture[4]\n",
        "  return L, n, activation, Cb, Cw\n",
        "\n",
        "def handle_dirs(dirpath):\n",
        "  if not os.path.exists(dirpath):\n",
        "    print(\"provo a crearla\")\n",
        "    os.makedirs(dirpath)"
      ],
      "metadata": {
        "id": "u8fBUCeQFgl2"
      },
      "execution_count": null,
      "outputs": []
    },
    {
      "cell_type": "code",
      "source": [
        "def compute_Cw_from_max_norm_X(max_norm_X, Cb):\n",
        "  O_0_x_star = 1/args.d * max_norm_X * max_norm_X\n",
        "  Cw = 2*(1-Cb/(2*O_0_x_star))\n",
        "  return float(Cw)\n",
        "\n",
        "def compute_Cw_from_var_y(var_y, Cb):\n",
        "  Cw = 2 - 2*Cb/var_y\n",
        "  return float(Cw)"
      ],
      "metadata": {
        "id": "a7uLke7ggt33"
      },
      "execution_count": null,
      "outputs": []
    },
    {
      "cell_type": "code",
      "source": [
        "# Create or Load Input\n",
        "def create_or_load_input(basepath, args_datahandling):\n",
        "  dataset_handler = DatasetHandler()\n",
        "  if args_datahandling.create_new_input:\n",
        "    input = dataset_handler.create_input()\n",
        "    if args_datahandling.save_input_on_cloud:\n",
        "      handle_dirs(basepath)\n",
        "      filename = basepath + \"input.csv\"\n",
        "      with open(filename, 'w', encoding = 'utf-8-sig') as f:\n",
        "        input.to_csv(f, index = False)\n",
        "    return input\n",
        "  else:\n",
        "    filename = basepath+\"input.csv\"\n",
        "    with open(filename, 'r', encoding = 'utf-8-sig') as f:\n",
        "      input = pd.read_csv(f)\n",
        "    return input\n",
        "\n",
        "\n",
        "# Compute or load gaussian limit var for each predictors\n",
        "def create_or_load_gaussian_limit_for_each_predictors(basepath, args_datahandling, grid_parameters_predictors,input, scaled_input = None, use_scaled_input = False):\n",
        "  dataset_handler = DatasetHandler()\n",
        "  if args_datahandling.compute_gaussian_limit:\n",
        "    columns = []\n",
        "    for i in range(args.d):\n",
        "      columns.append(\"x\" + str(i+1))\n",
        "    columns.extend(['L','activation','Cb','Cw','gaussian_limit_var', 'gaussian_limit_std'])\n",
        "    gaussian_limit_df = pd.DataFrame(columns=columns)\n",
        "    for predictor_architectures in get_architecture(grid_parameters_predictors):\n",
        "      pred_L = predictor_architectures[0]\n",
        "      pred_n = predictor_architectures[1]\n",
        "      pred_width_list = create_constant_widths_list(pred_L, pred_n)\n",
        "      pred_activation = predictor_architectures[2]\n",
        "      pred_Cb = predictor_architectures[3]\n",
        "      pred_Cw = predictor_architectures[4]\n",
        "      predictor = MLP(pred_L, pred_width_list, pred_activation, pred_Cb, pred_Cw, seed = 111)\n",
        "      gaussian_limit_df = pd.concat([gaussian_limit_df, dataset_handler.get_dataset_with_gaussian_limit(predictor, input, scaled_input, use_scaled_input)], ignore_index=True)\n",
        "    if args_datahandling.save_gaussian_limit_on_cloud:\n",
        "      handle_dirs(basepath)\n",
        "      filename = basepath + \"gaussian_limit.csv\"\n",
        "      with open(filename, 'w', encoding = 'utf-8-sig') as f:\n",
        "        gaussian_limit_df.to_csv(f, index = False)\n",
        "    return gaussian_limit_df\n",
        "  else:\n",
        "    filename = basepath + \"gaussian_limit.csv\"\n",
        "    with open(filename, 'r', encoding = 'utf-8-sig') as f:\n",
        "      gaussian_limit_df = pd.read_csv(f)\n",
        "    return gaussian_limit_df\n"
      ],
      "metadata": {
        "id": "QxFq6sUd2hjG"
      },
      "execution_count": null,
      "outputs": []
    },
    {
      "cell_type": "markdown",
      "source": [
        "Esempio di codice per ricaricare i risultati memorizzati nel cloud\n",
        "\n",
        "(DA SISTEMARE)"
      ],
      "metadata": {
        "id": "Z-G715OxaEOK"
      }
    },
    {
      "cell_type": "code",
      "source": [
        "grid_dataset_results = []\n",
        "path='/content/drive/MyDrive/Simulazioni/Simulazione_A/'\n",
        "filename = path + \"/gaussian_limit.csv\"\n",
        "with open(filename, 'r', encoding = 'utf-8-sig') as f:\n",
        "  gaussian_limit_df = pd.read_csv(f)\n",
        "for L in grid_parameters_datasets['L']:\n",
        "  mlpgenerated_dataset_simulation = MLPGeneratedDatasetSimulation.create_from_csv_with_results(L=L, activation=\"relu\", Cb=1, Cw=1)\n",
        "  path='/content/drive/MyDrive/Simulazioni/Simulazione_A/'\n",
        "  path += str(L) + \"_\" + \"relu\"\n",
        "  handle_dirs(path)\n",
        "  filename = path + \"/dataset.csv\"\n",
        "  with open(filename, 'r', encoding = 'utf-8-sig') as f:\n",
        "    source_dataset = pd.read_csv(f)\n",
        "  mlpgenerated_dataset_simulation.set_source_dataset(source_dataset, to_center = True)\n",
        "\n",
        "\n",
        "  filename = path + \"/scores.csv\"\n",
        "  with open(filename, 'r', encoding = 'utf-8-sig') as f:\n",
        "    scores_dataset = pd.read_csv(f)\n",
        "  columns = scores_dataset.columns\n",
        "  score_handler = Score_Handler()\n",
        "  dataset_handler = DatasetHandler()\n",
        "\n",
        "  dataset_handler.set_generator_params(L =L, activation = \"relu\", Cb=1, Cw=1)\n",
        "  dataset_handler.set_dataset(source_dataset, to_center = True)\n",
        "  grid_dataset_results.append(mlpgenerated_dataset_simulation)\n"
      ],
      "metadata": {
        "id": "BosVmZfq-BJU"
      },
      "execution_count": null,
      "outputs": []
    },
    {
      "cell_type": "markdown",
      "source": [
        "### Descrizione Simulazione A\n",
        "Generator: L = [5,10,15]\\\n",
        "Generator: activation = 'relu'\\\n",
        "Generator: Cw = 2\\\n",
        "Generator: No Bias\n",
        "\n",
        "Predictor: L = [1,...,25]\\\n",
        "Predictor: activation = 'relu'\\\n",
        "Predictor: Cw = 1\\\n",
        "Predictor: Cb = 1\n",
        "\n",
        "\n",
        "Viene effettuata la trasformazione \\\n",
        "x_ij <- x_ij / max{norm(x_i)}"
      ],
      "metadata": {
        "id": "fc-RPypzsevl"
      }
    },
    {
      "cell_type": "code",
      "source": [
        "# Guida all'uso dei parametri:\n",
        "# Alla prima esecuzione tutti i booleani devono essere posti a True\n",
        "# I booleani create_new_input, save_input_on_cloud, compute_gaussian_limit e\n",
        "# save_gaussian_limit_on_cloud servono a:\n",
        "# (1) creare i dati di input X e memorizzarli sul cloud\n",
        "# (2) calcolare per ciascun input e ciascun predittore la varianza della\n",
        "#     gaussiana limite e memorizzarle sul cloud\n",
        "# In caso in cui create_new_input e/o compute_gaussian_limit fossero falsi, il\n",
        "# dataset corrispettivo è caricato dal cloud (quindi almeno la prima volta\n",
        "# occorre crearlo)\n",
        "# I booleani save_dataset_on_cloud, save_results_on_cloud e save_figures_on_cloud\n",
        "# servono per abilitare/disabilitare il salvataggio del dataset (X, y), i\n",
        "# risultati (predittore, scores) o le figure sul cloud.\n",
        "\n",
        "args_datahandling = Namespace(\n",
        "    create_new_input = True,\n",
        "    save_input_on_cloud = True,\n",
        "    compute_gaussian_limit = True,\n",
        "    save_gaussian_limit_on_cloud = True,\n",
        "    save_dataset_on_cloud = True,\n",
        "    save_results_on_cloud = True,\n",
        "    save_figures_on_cloud = True\n",
        ")\n",
        "\n",
        "# basepath è il percorso nel cloud in cui saranno salvati i risultati.\n",
        "# Se basepath = '/content/drive/MyDrive/Simulazioni/Simulazione_A/'\n",
        "# i risultati della simulazione A saranno salvati nella cartella Simulazioni\n",
        "# sottocartella Simulazione_A\n",
        "basepath = '/content/drive/MyDrive/Simulazioni/Simulazione_A/'"
      ],
      "metadata": {
        "id": "G6lTwMKWvYAd"
      },
      "execution_count": null,
      "outputs": []
    },
    {
      "cell_type": "code",
      "source": [
        "grid_parameters_datasets = {'L' : [5,10,15], 'n':[50], 'activation':['relu'], 'Cb': [1], 'Cw': [1]}\n",
        "grid_parameters_predictors = {'L' : np.arange(1,26,1), 'n':[5], 'activation':['relu'], 'Cb': [1], 'Cw': [1]}"
      ],
      "metadata": {
        "id": "qGcSj2eNvSFs"
      },
      "execution_count": null,
      "outputs": []
    },
    {
      "cell_type": "code",
      "source": [
        "dataset_handler = DatasetHandler()\n",
        "input = create_or_load_input(basepath, args_datahandling)\n"
      ],
      "metadata": {
        "id": "VT6Td1011haE"
      },
      "execution_count": null,
      "outputs": []
    },
    {
      "cell_type": "code",
      "source": [
        "args_scores = Namespace(\n",
        "    nloglike = True,\n",
        "    gmean = False,\n",
        "    max = False,\n",
        "    min = False,\n",
        "    median = False,\n",
        "    pvalue_comulative = False,\n",
        "    backtesting = False\n",
        ")\n",
        "\n",
        "iteration_number = 0\n",
        "total_iterations = len(grid_parameters_datasets['L'])*len(grid_parameters_datasets['n'])*len(grid_parameters_datasets['activation'])\n",
        "grid_dataset_results = []\n",
        "for architecture in get_architecture(grid_parameters_datasets):\n",
        "  # print iteration_number\n",
        "  iteration_number = iteration_number + 1\n",
        "  print(\"{}/{}\".format(iteration_number, total_iterations))\n",
        "\n",
        "  dataset_handler = DatasetHandler()\n",
        "  score_handler = Score_Handler()\n",
        "\n",
        "  # Generator MLP Parameters\n",
        "  L, n, activation, Cb, Cw = unpack_architecture(architecture)\n",
        "  width_list = create_constant_widths_list(L, n)\n",
        "\n",
        "\n",
        "  # Instantiate Generator\n",
        "  mlp = MLP(L, width_list, activation, Cb, Cw, seed = L, use_bias = False, use_generator_init = True)\n",
        "\n",
        "  # Create Dataset\n",
        "  dataset, _= dataset_handler.create_dataset_from_MLP_given_input(mlp, input)\n",
        "  scaled_input , max_norm_X = dataset_handler.set_max_norm_X_to_1(input)\n",
        "\n",
        "  path = basepath + str(L) + \"_\" + activation + \"/\"\n",
        "  gaussian_limit_df = create_or_load_gaussian_limit_for_each_predictors(basepath, args_datahandling, grid_parameters_predictors, input, scaled_input, use_scaled_input = True)\n",
        "\n",
        "\n",
        "\n",
        "  mlpgenerator_datasetsimulation = MLPGeneratedDatasetSimulation(dataset_handler)\n",
        "  if args_datahandling.save_dataset_on_cloud:\n",
        "    # Save dataset description\n",
        "    mlpgenerator_datasetsimulation.save_dataset_description_on_cloud(basepath)\n",
        "    # Save dataset\n",
        "    centered_dataset = dataset_handler.get_uncentered_dataset()\n",
        "    path = basepath + str(L) + \"_\" + activation\n",
        "    handle_dirs(path)\n",
        "    filename = path + \"/dataset.csv\"\n",
        "    with open(filename, 'w', encoding = 'utf-8-sig') as f:\n",
        "      centered_dataset.to_csv(f, index = False)\n",
        "\n",
        "  current_dataset_results = score_handler.compute_all_scores(dataset_handler, grid_parameters_predictors, gaussian_limit_df, args_scores)\n",
        "  mlpgenerator_datasetsimulation.set_results(current_dataset_results)\n",
        "\n",
        "  if args_datahandling.save_results_on_cloud:\n",
        "    mlpgenerator_datasetsimulation.save_dataset_results_on_cloud(basepath)\n",
        "\n",
        "  grid_dataset_results.append(mlpgenerator_datasetsimulation)\n",
        "\n",
        "if args_datahandling.save_figures_on_cloud:\n",
        "  lineplots(grid_dataset_results, basepath, args_scores)"
      ],
      "metadata": {
        "id": "MuqdnPmg-OlG",
        "colab": {
          "base_uri": "https://localhost:8080/",
          "height": 1000
        },
        "outputId": "84995d8b-c393-44f6-ab0a-97abccc50f87"
      },
      "execution_count": null,
      "outputs": [
        {
          "output_type": "stream",
          "name": "stdout",
          "text": [
            "1/3\n",
            "2/3\n",
            "3/3\n"
          ]
        },
        {
          "output_type": "display_data",
          "data": {
            "text/plain": [
              "<Figure size 640x480 with 1 Axes>"
            ],
            "image/png": "[encoded data removed]"
          },
          "metadata": {}
        },
        {
          "output_type": "display_data",
          "data": {
            "text/plain": [
              "<Figure size 640x480 with 1 Axes>"
            ],
            "image/png": "[encoded data removed]"
          },
          "metadata": {}
        },
        {
          "output_type": "display_data",
          "data": {
            "text/plain": [
              "<Figure size 640x480 with 1 Axes>"
            ],
            "image/png": "[encoded data removed]"
          },
          "metadata": {}
        }
      ]
    },
    {
      "cell_type": "markdown",
      "source": [
        "### Descrizione Simulazione B\n",
        "Generator: L = [5,10,15]\\\n",
        "Generator: activation = 'relu'\\\n",
        "Generator: Cw = 2\\\n",
        "Generator: No Bias\n",
        "\n",
        "Predictor: L = [1,...,25]\\\n",
        "Predictor: activation = 'relu'\\\n",
        "Predictor: Cw = f(X) - attraverso compute_Cw_from_max_norm_X\\\n",
        "Predictor: Cb = 1\n",
        "\n",
        "\n"
      ],
      "metadata": {
        "id": "RCCP9kpr09Rg"
      }
    },
    {
      "cell_type": "code",
      "source": [
        "# Guida all'uso dei parametri:\n",
        "# Alla prima esecuzione tutti i booleani devono essere posti a True\n",
        "# I booleani create_new_input, save_input_on_cloud, compute_gaussian_limit e\n",
        "# save_gaussian_limit_on_cloud servono a:\n",
        "# (1) creare i dati di input X e memorizzarli sul cloud\n",
        "# (2) calcolare per ciascun input e ciascun predittore la varianza della\n",
        "#     gaussiana limite e memorizzarle sul cloud\n",
        "# In caso in cui create_new_input e/o compute_gaussian_limit fossero falsi, il\n",
        "# dataset corrispettivo è caricato dal cloud (quindi almeno la prima volta\n",
        "# occorre crearlo)\n",
        "# I booleani save_dataset_on_cloud, save_results_on_cloud e save_figures_on_cloud\n",
        "# servono per abilitare/disabilitare il salvataggio del dataset (X, y), i\n",
        "# risultati (predittore, scores) o le figure sul cloud.\n",
        "args_datahandling = Namespace(\n",
        "    create_new_input = True,\n",
        "    save_input_on_cloud = True,\n",
        "    compute_gaussian_limit = True,\n",
        "    save_gaussian_limit_on_cloud = True,\n",
        "    save_dataset_on_cloud = True,\n",
        "    save_results_on_cloud = True,\n",
        "    save_figures_on_cloud = True\n",
        ")\n",
        "\n",
        "# basepath è il percorso nel cloud in cui saranno salvati i risultati.\n",
        "# Se basepath = '/content/drive/MyDrive/Simulazioni/Simulazione_B/'\n",
        "# i risultati della simulazione B saranno salvati nella cartella Simulazioni\n",
        "# sottocartella Simulazione_B\n",
        "basepath = '/content/drive/MyDrive/Simulazioni/Simulazione_B/'"
      ],
      "metadata": {
        "id": "cXoIiPIw09Rh"
      },
      "execution_count": null,
      "outputs": []
    },
    {
      "cell_type": "code",
      "source": [
        "grid_parameters_datasets = {'L' : [5,10,15], 'n':[50], 'activation':['relu'], 'Cb': [1], 'Cw': [1]}\n",
        "grid_parameters_predictors = {'L' : np.arange(1,26,1), 'n':[5], 'activation':['relu'], 'Cb': [1], 'Cw': [1]}"
      ],
      "metadata": {
        "id": "5Ln-fWq309Rh"
      },
      "execution_count": null,
      "outputs": []
    },
    {
      "cell_type": "code",
      "source": [
        "dataset_handler = DatasetHandler()\n",
        "input = create_or_load_input(basepath, args_datahandling)\n",
        "max_norm_X = dataset_handler.get_max_norm_X(input)\n"
      ],
      "metadata": {
        "id": "PNUEzanT09Rh"
      },
      "execution_count": null,
      "outputs": []
    },
    {
      "cell_type": "code",
      "source": [
        "grid_parameters_predictors"
      ],
      "metadata": {
        "colab": {
          "base_uri": "https://localhost:8080/"
        },
        "id": "ZICC-UJd_-sI",
        "outputId": "fb673eef-5e87-4438-f4d1-90dbf9948421"
      },
      "execution_count": null,
      "outputs": [
        {
          "output_type": "execute_result",
          "data": {
            "text/plain": [
              "{'L': array([ 1,  2,  3,  4,  5,  6,  7,  8,  9, 10, 11, 12, 13, 14, 15, 16, 17,\n",
              "        18, 19, 20, 21, 22, 23, 24, 25]),\n",
              " 'n': [5],\n",
              " 'activation': ['relu'],\n",
              " 'Cb': [1],\n",
              " 'Cw': [1]}"
            ]
          },
          "metadata": {},
          "execution_count": 124
        }
      ]
    },
    {
      "cell_type": "code",
      "source": [
        "args_scores = Namespace(\n",
        "    nloglike = True,\n",
        "    gmean = False,\n",
        "    max = False,\n",
        "    min = False,\n",
        "    median = False,\n",
        "    pvalue_comulative = False,\n",
        "    backtesting = False\n",
        ")\n",
        "\n",
        "iteration_number = 0\n",
        "total_iterations = len(grid_parameters_datasets['L'])*len(grid_parameters_datasets['n'])*len(grid_parameters_datasets['activation'])\n",
        "grid_dataset_results = []\n",
        "for architecture in get_architecture(grid_parameters_datasets):\n",
        "  # print iteration_number\n",
        "  iteration_number = iteration_number + 1\n",
        "  print(\"{}/{}\".format(iteration_number, total_iterations))\n",
        "\n",
        "  dataset_handler = DatasetHandler()\n",
        "  score_handler = Score_Handler()\n",
        "\n",
        "  # Generator MLP Parameters\n",
        "  L, n, activation, Cb, Cw = unpack_architecture(architecture)\n",
        "  width_list = create_constant_widths_list(L, n)\n",
        "\n",
        "\n",
        "  # Instantiate Generator\n",
        "  mlp = MLP(L, width_list, activation, Cb, Cw, seed = L, use_bias = False, use_generator_init = True)\n",
        "\n",
        "  # Create Dataset\n",
        "  dataset, _= dataset_handler.create_dataset_from_MLP_given_input(mlp, input)\n",
        "\n",
        "  # Set Cw according to max_norm_X\n",
        "  Cw = compute_Cw_from_max_norm_X(max_norm_X, grid_parameters_predictors['Cb'])\n",
        "  Cw_params_list = grid_parameters_predictors['Cw']\n",
        "  Cw_params_list.pop(0)\n",
        "  Cw_params_list.append(Cw)\n",
        "\n",
        "  path = basepath + str(L) + \"_\" + activation + \"/\"\n",
        "  gaussian_limit_df = create_or_load_gaussian_limit_for_each_predictors(path, args_datahandling, grid_parameters_predictors, input)\n",
        "\n",
        "\n",
        "  mlpgenerator_datasetsimulation = MLPGeneratedDatasetSimulation(dataset_handler)\n",
        "  if args_datahandling.save_dataset_on_cloud:\n",
        "    # Save dataset description\n",
        "    mlpgenerator_datasetsimulation.save_dataset_description_on_cloud(basepath)\n",
        "    # Save dataset\n",
        "    centered_dataset = dataset_handler.get_uncentered_dataset()\n",
        "    path = basepath + str(L) + \"_\" + activation\n",
        "    handle_dirs(path)\n",
        "    filename = path + \"/dataset.csv\"\n",
        "    with open(filename, 'w', encoding = 'utf-8-sig') as f:\n",
        "      centered_dataset.to_csv(f, index = False)\n",
        "\n",
        "  current_dataset_results = score_handler.compute_all_scores(dataset_handler, grid_parameters_predictors, gaussian_limit_df, args_scores)\n",
        "  mlpgenerator_datasetsimulation.set_results(current_dataset_results)\n",
        "\n",
        "  if args_datahandling.save_results_on_cloud:\n",
        "    mlpgenerator_datasetsimulation.save_dataset_results_on_cloud(basepath)\n",
        "\n",
        "  grid_dataset_results.append(mlpgenerator_datasetsimulation)\n",
        "\n",
        "if args_datahandling.save_figures_on_cloud:\n",
        "  lineplots(grid_dataset_results, basepath, args_scores)"
      ],
      "metadata": {
        "colab": {
          "base_uri": "https://localhost:8080/",
          "height": 1000
        },
        "outputId": "a525a862-56d2-4e1b-bf3b-9e5d4bbb8227",
        "id": "XUEOfNAl09Rh"
      },
      "execution_count": null,
      "outputs": [
        {
          "output_type": "stream",
          "name": "stdout",
          "text": [
            "1/3\n",
            "2/3\n",
            "3/3\n"
          ]
        },
        {
          "output_type": "display_data",
          "data": {
            "text/plain": [
              "<Figure size 640x480 with 1 Axes>"
            ],
            "image/png": "[encoded data removed]"
          },
          "metadata": {}
        },
        {
          "output_type": "display_data",
          "data": {
            "text/plain": [
              "<Figure size 640x480 with 1 Axes>"
            ],
            "image/png": "[encoded data removed]"
          },
          "metadata": {}
        },
        {
          "output_type": "display_data",
          "data": {
            "text/plain": [
              "<Figure size 640x480 with 1 Axes>"
            ],
            "image/png": "[encoded data removed]"
          },
          "metadata": {}
        }
      ]
    },
    {
      "cell_type": "markdown",
      "source": [
        "### Descrizione Simulazione C\n",
        "Generator: L = [5,10,15]\\\n",
        "Generator: activation = 'relu'\\\n",
        "Generator: Cw = 2\\\n",
        "Generator: No Bias\n",
        "\n",
        "Predictor: L = [1,...,25]\\\n",
        "Predictor: activation = 'relu'\\\n",
        "Predictor: Cw = 2\\\n",
        "Predictor: Cb = 6/11\n",
        "\n",
        "Scegliamo Cb in modo che la varianza della gaussiana limite sia 6.2 quando L = 10."
      ],
      "metadata": {
        "id": "Q6mfhUBuot5Z"
      }
    },
    {
      "cell_type": "code",
      "source": [
        "args_datahandling = Namespace(\n",
        "    create_new_input = True,\n",
        "    save_input_on_cloud = True,\n",
        "    compute_gaussian_limit = True,\n",
        "    save_gaussian_limit_on_cloud = True,\n",
        "    save_dataset_on_cloud = True,\n",
        "    save_results_on_cloud = True,\n",
        "    save_figures_on_cloud = True\n",
        ")\n",
        "\n",
        "basepath = '/content/drive/MyDrive/Simulazioni/Simulazione_C/'"
      ],
      "metadata": {
        "id": "ywyt93I4xyuI"
      },
      "execution_count": null,
      "outputs": []
    },
    {
      "cell_type": "code",
      "source": [
        "grid_parameters_datasets = {'L' : [5,10,15], 'n':[50], 'activation':['relu'], 'Cb': [1], 'Cw': [1]}\n",
        "grid_parameters_predictors = {'L' : np.arange(1,26,1), 'n':[5], 'activation':['relu'], 'Cb': [1], 'Cw': [2]}"
      ],
      "metadata": {
        "id": "IEx0oVZpxyuJ"
      },
      "execution_count": null,
      "outputs": []
    },
    {
      "cell_type": "code",
      "source": [
        "dataset_handler = DatasetHandler()\n",
        "input = create_or_load_input(basepath, args_datahandling)\n",
        "scaled_input , max_norm_X = dataset_handler.set_max_norm_X_to_1(input)\n"
      ],
      "metadata": {
        "id": "BkPK5WeyxyuJ"
      },
      "execution_count": null,
      "outputs": []
    },
    {
      "cell_type": "code",
      "source": [
        "args_scores = Namespace(\n",
        "    nloglike = True,\n",
        "    gmean = False,\n",
        "    max = False,\n",
        "    min = False,\n",
        "    median = False,\n",
        "    pvalue_comulative = False,\n",
        "    backtesting = False\n",
        ")\n",
        "\n",
        "iteration_number = 0\n",
        "total_iterations = len(grid_parameters_datasets['L'])*len(grid_parameters_datasets['n'])*len(grid_parameters_datasets['activation'])\n",
        "grid_dataset_results = []\n",
        "for architecture in get_architecture(grid_parameters_datasets):\n",
        "  # print iteration_number\n",
        "  iteration_number = iteration_number + 1\n",
        "  print(\"{}/{}\".format(iteration_number, total_iterations))\n",
        "\n",
        "  dataset_handler = DatasetHandler()\n",
        "  score_handler = Score_Handler()\n",
        "\n",
        "  # Generator MLP Parameters\n",
        "  L, n, activation, Cb, Cw = unpack_architecture(architecture)\n",
        "  width_list = create_constant_widths_list(L, n)\n",
        "\n",
        "\n",
        "  # Instantiate Generator\n",
        "  mlp = MLP(L, width_list, activation, Cb, Cw, seed = L, use_bias = False, use_generator_init = True)\n",
        "\n",
        "  # Create Dataset\n",
        "  dataset, _= dataset_handler.create_dataset_from_MLP_given_input(mlp, input)\n",
        "  var_y = dataset_handler.get_y_stddev()**2\n",
        "\n",
        "  Cb = max(0, (var_y - Cw)/(1+Cw*L/2))\n",
        "  Cb_params_list = grid_parameters_predictors['Cb']\n",
        "  Cb_params_list.pop(0)\n",
        "  Cb_params_list.append(Cb)\n",
        "\n",
        "  gaussian_limit_df = create_or_load_gaussian_limit_for_each_predictors(basepath, args_datahandling, grid_parameters_predictors, input, scaled_input, use_scaled_input = True)\n",
        "\n",
        "\n",
        "  mlpgenerator_datasetsimulation = MLPGeneratedDatasetSimulation(dataset_handler)\n",
        "  if args_datahandling.save_dataset_on_cloud:\n",
        "    # Save dataset description\n",
        "    mlpgenerator_datasetsimulation.save_dataset_description_on_cloud(basepath)\n",
        "    # Save dataset\n",
        "    centered_dataset = dataset_handler.get_uncentered_dataset()\n",
        "    path = basepath + str(L) + \"_\" + activation\n",
        "    handle_dirs(path)\n",
        "    filename = path + \"/dataset.csv\"\n",
        "    with open(filename, 'w', encoding = 'utf-8-sig') as f:\n",
        "      centered_dataset.to_csv(f, index = False)\n",
        "\n",
        "  current_dataset_results = score_handler.compute_all_scores(dataset_handler, grid_parameters_predictors, gaussian_limit_df, args_scores)\n",
        "  mlpgenerator_datasetsimulation.set_results(current_dataset_results)\n",
        "\n",
        "  if args_datahandling.save_results_on_cloud:\n",
        "    mlpgenerator_datasetsimulation.save_dataset_results_on_cloud(basepath)\n",
        "\n",
        "  grid_dataset_results.append(mlpgenerator_datasetsimulation)\n",
        "\n",
        "if args_datahandling.save_figures_on_cloud:\n",
        "  lineplots(grid_dataset_results, basepath, args_scores)"
      ],
      "metadata": {
        "colab": {
          "base_uri": "https://localhost:8080/",
          "height": 1000
        },
        "outputId": "9cc0e2f0-8496-4355-a857-dace5b28b11f",
        "id": "GbQmAgs3xyuJ"
      },
      "execution_count": null,
      "outputs": [
        {
          "output_type": "stream",
          "name": "stdout",
          "text": [
            "1/3\n",
            "provo a crearla\n",
            "2/3\n",
            "provo a crearla\n",
            "3/3\n",
            "provo a crearla\n"
          ]
        },
        {
          "output_type": "display_data",
          "data": {
            "text/plain": [
              "<Figure size 640x480 with 1 Axes>"
            ],
            "image/png": "[encoded data removed]"
          },
          "metadata": {}
        },
        {
          "output_type": "display_data",
          "data": {
            "text/plain": [
              "<Figure size 640x480 with 1 Axes>"
            ],
            "image/png": "[encoded data removed]"
          },
          "metadata": {}
        },
        {
          "output_type": "display_data",
          "data": {
            "text/plain": [
              "<Figure size 640x480 with 1 Axes>"
            ],
            "image/png": "[encoded data removed]"
          },
          "metadata": {}
        }
      ]
    },
    {
      "cell_type": "markdown",
      "source": [
        "### Descrizione Simulazione D\n",
        "Generator: L = [5,10,15]\\\n",
        "Generator: activation = 'relu'\\\n",
        "Generator: Cw = 2\\\n",
        "Generator: No Bias\n",
        "\n",
        "Predictor: L = [1,...,25]\\\n",
        "Predictor: activation = 'relu'\\\n",
        "Predictor: Cw = f(var_y) - scegliamo Cw in modo che la varianza della gaussiana limite tenda a var_y per L -> +inf\\\n",
        "Predictor: Cb = 1\n",
        "\n"
      ],
      "metadata": {
        "id": "-hYyfKJPHsqa"
      }
    },
    {
      "cell_type": "code",
      "source": [
        "args_datahandling = Namespace(\n",
        "    create_new_input = True,\n",
        "    save_input_on_cloud = True,\n",
        "    compute_gaussian_limit = True,\n",
        "    save_gaussian_limit_on_cloud = True,\n",
        "    save_dataset_on_cloud = True,\n",
        "    save_results_on_cloud = True,\n",
        "    save_figures_on_cloud = True\n",
        ")\n",
        "\n",
        "basepath = '/content/drive/MyDrive/Simulazioni/Simulazione_D/'"
      ],
      "metadata": {
        "id": "1zgmuDXhH0RP"
      },
      "execution_count": null,
      "outputs": []
    },
    {
      "cell_type": "code",
      "source": [
        "grid_parameters_datasets = {'L' : [5,10,15], 'n':[50], 'activation':['relu'], 'Cb': [1], 'Cw': [1]}\n",
        "grid_parameters_predictors = {'L' : np.arange(1,26,1), 'n':[5], 'activation':['relu'], 'Cb': [1], 'Cw': [2]}"
      ],
      "metadata": {
        "id": "4qn5eLPMH0RW"
      },
      "execution_count": null,
      "outputs": []
    },
    {
      "cell_type": "code",
      "source": [
        "dataset_handler = DatasetHandler()\n",
        "input = create_or_load_input(basepath, args_datahandling)\n",
        "\n"
      ],
      "metadata": {
        "id": "COC8UYc-H0RW"
      },
      "execution_count": null,
      "outputs": []
    },
    {
      "cell_type": "code",
      "source": [
        "args_scores = Namespace(\n",
        "    nloglike = True,\n",
        "    gmean = False,\n",
        "    max = False,\n",
        "    min = False,\n",
        "    median = False,\n",
        "    pvalue_comulative = False,\n",
        "    backtesting = False\n",
        ")\n",
        "\n",
        "iteration_number = 0\n",
        "total_iterations = len(grid_parameters_datasets['L'])*len(grid_parameters_datasets['n'])*len(grid_parameters_datasets['activation'])\n",
        "grid_dataset_results = []\n",
        "for architecture in get_architecture(grid_parameters_datasets):\n",
        "  # print iteration_number\n",
        "  iteration_number = iteration_number + 1\n",
        "  print(\"{}/{}\".format(iteration_number, total_iterations))\n",
        "\n",
        "  dataset_handler = DatasetHandler()\n",
        "  score_handler = Score_Handler()\n",
        "\n",
        "  # Generator MLP Parameters\n",
        "  L, n, activation, Cb, Cw = unpack_architecture(architecture)\n",
        "  width_list = create_constant_widths_list(L, n)\n",
        "\n",
        "\n",
        "  # Instantiate Generator\n",
        "  mlp = MLP(L, width_list, activation, Cb, Cw, seed = L, use_bias = False, use_generator_init = True)\n",
        "\n",
        "  # Create Dataset\n",
        "  dataset, _= dataset_handler.create_dataset_from_MLP_given_input(mlp, input)\n",
        "  var_y = dataset_handler.get_y_stddev()**2\n",
        "  # Set Cw according to var_y\n",
        "  Cw = compute_Cw_from_var_y(var_y, grid_parameters_predictors['Cb'][0])\n",
        "  print(\"Cw:\\t{}\".format(Cw))\n",
        "  Cw_params_list = grid_parameters_predictors['Cw']\n",
        "  Cw_params_list.pop(0)\n",
        "  Cw_params_list.append(Cw)\n",
        "\n",
        "  path = basepath + str(L) + \"_\" + activation + \"/\"\n",
        "  gaussian_limit_df = create_or_load_gaussian_limit_for_each_predictors(basepath+\"\", args_datahandling, grid_parameters_predictors, input)\n",
        "\n",
        "  mlpgenerator_datasetsimulation = MLPGeneratedDatasetSimulation(dataset_handler)\n",
        "  if args_datahandling.save_dataset_on_cloud:\n",
        "    # Save dataset description\n",
        "    mlpgenerator_datasetsimulation.save_dataset_description_on_cloud(basepath)\n",
        "    # Save dataset\n",
        "    centered_dataset = dataset_handler.get_uncentered_dataset()\n",
        "    path = basepath + str(L) + \"_\" + activation\n",
        "    handle_dirs(path)\n",
        "    filename = path + \"/dataset.csv\"\n",
        "    with open(filename, 'w', encoding = 'utf-8-sig') as f:\n",
        "      centered_dataset.to_csv(f, index = False)\n",
        "\n",
        "  current_dataset_results = score_handler.compute_all_scores(dataset_handler, grid_parameters_predictors, gaussian_limit_df, args_scores)\n",
        "  mlpgenerator_datasetsimulation.set_results(current_dataset_results)\n",
        "\n",
        "  if args_datahandling.save_results_on_cloud:\n",
        "    mlpgenerator_datasetsimulation.save_dataset_results_on_cloud(basepath)\n",
        "\n",
        "  grid_dataset_results.append(mlpgenerator_datasetsimulation)\n",
        "\n",
        "if args_datahandling.save_figures_on_cloud:\n",
        "  lineplots(grid_dataset_results, basepath, args_scores)"
      ],
      "metadata": {
        "colab": {
          "base_uri": "https://localhost:8080/",
          "height": 1000
        },
        "outputId": "248e2f51-182f-4d2e-f299-7e217224162a",
        "id": "AdIOGFOgH0RX"
      },
      "execution_count": null,
      "outputs": [
        {
          "output_type": "stream",
          "name": "stdout",
          "text": [
            "1/3\n",
            "Cw:\t1.6768885022276703\n",
            "2/3\n",
            "Cw:\t1.6783137382632172\n",
            "3/3\n",
            "Cw:\t0.16951231647689524\n"
          ]
        },
        {
          "output_type": "display_data",
          "data": {
            "text/plain": [
              "<Figure size 640x480 with 1 Axes>"
            ],
            "image/png": "[encoded data removed]"
          },
          "metadata": {}
        },
        {
          "output_type": "display_data",
          "data": {
            "text/plain": [
              "<Figure size 640x480 with 1 Axes>"
            ],
            "image/png": "[encoded data removed]"
          },
          "metadata": {}
        },
        {
          "output_type": "display_data",
          "data": {
            "text/plain": [
              "<Figure size 640x480 with 1 Axes>"
            ],
            "image/png": "[encoded data removed]"
          },
          "metadata": {}
        }
      ]
    },
    {
      "cell_type": "code",
      "source": [],
      "metadata": {
        "id": "JyeomvqHKX4L"
      },
      "execution_count": null,
      "outputs": []
    }
  ]
}